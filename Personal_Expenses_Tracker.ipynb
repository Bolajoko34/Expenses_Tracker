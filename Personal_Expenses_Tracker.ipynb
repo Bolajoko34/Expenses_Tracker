{
 "cells": [
  {
   "cell_type": "markdown",
   "id": "da0ac416-095f-45aa-8d88-ffff749d7ca0",
   "metadata": {},
   "source": [
    "# Personal Expenses Tracker"
   ]
  },
  {
   "cell_type": "markdown",
   "id": "19d02f8a-f36d-4a16-998b-258ff9f4ea42",
   "metadata": {},
   "source": [
    "## what are we tracking????"
   ]
  },
  {
   "cell_type": "markdown",
   "id": "7df40128-0eff-43f9-9653-b5232039cc16",
   "metadata": {},
   "source": [
    "### Create Variables"
   ]
  },
  {
   "cell_type": "code",
   "execution_count": 7,
   "id": "a74f5990-269d-435b-a261-c1f31a5280d4",
   "metadata": {},
   "outputs": [],
   "source": [
    "User =\"Mariam\" # str\n",
    "current_month = \" August 2025\" # str\n",
    "currency = \"$\" # str\n",
    "budget = 500 # int\n",
    "num_days_in_month = 31 # int\n",
    "is_budget_set =True # boolean\n"
   ]
  },
  {
   "cell_type": "code",
   "execution_count": 9,
   "id": "20e32eea-dd59-45f2-96ee-350b8c04d3a8",
   "metadata": {},
   "outputs": [
    {
     "name": "stdout",
     "output_type": "stream",
     "text": [
      "Hello Mariam\n"
     ]
    }
   ],
   "source": [
    "print(\"Hello\",User)"
   ]
  },
  {
   "cell_type": "code",
   "execution_count": 10,
   "id": "9c3795f7-3808-496e-8ccb-318e1cbc5795",
   "metadata": {},
   "outputs": [
    {
     "name": "stdout",
     "output_type": "stream",
     "text": [
      "Budget for  August 2025 : 500\n"
     ]
    }
   ],
   "source": [
    "print(\"Budget for\",current_month,\":\",budget)"
   ]
  },
  {
   "cell_type": "markdown",
   "id": "b218f3f4-8255-412a-b5b3-ea07101ec7f8",
   "metadata": {},
   "source": [
    "## A single expense"
   ]
  },
  {
   "cell_type": "code",
   "execution_count": 28,
   "id": "82e9ce97-8c4c-4dcc-ba0e-888a5b04e159",
   "metadata": {},
   "outputs": [],
   "source": [
    "item = \"rent\"\n",
    "amount =200\n",
    "category = \"Housing\"\n",
    "is_necessary =True"
   ]
  },
  {
   "cell_type": "code",
   "execution_count": 32,
   "id": "e5ec0190-d121-41d2-85d1-b7bcd9f34f0c",
   "metadata": {},
   "outputs": [
    {
     "data": {
      "text/plain": [
       "300"
      ]
     },
     "execution_count": 32,
     "metadata": {},
     "output_type": "execute_result"
    }
   ],
   "source": [
    "budget -amount"
   ]
  },
  {
   "cell_type": "code",
   "execution_count": 41,
   "id": "d4a8e224-1f6a-4347-9304-a87b1fa2fa78",
   "metadata": {},
   "outputs": [
    {
     "name": "stdout",
     "output_type": "stream",
     "text": [
      "===================================\n",
      "        Expense Tracker\n",
      "===================================\n",
      "Owner                 Mariam\n",
      "Period                August 2025\n",
      "-----------------------------------\n",
      "Currency              $\n",
      "Starting Balance      500\n",
      "Total Expenses        200\n",
      "-----------------------------------\n",
      "Closing Budget        300\n",
      "Transaction           1\n",
      "===================================\n",
      "      see you next time \n",
      "===================================\n"
     ]
    }
   ],
   "source": [
    "print(\"=\" * 35)\n",
    "print(\"        Expense Tracker\")\n",
    "print(\"=\" * 35)\n",
    "print(\"Owner\",\"               \",User)\n",
    "print(\"Period\",\"             \",current_month)\n",
    "print(\"-\" * 35)\n",
    "print(\"Currency\",\"            \",   currency)\n",
    "print(\"Starting Balance\",\"    \",budget)\n",
    "print(\"Total Expenses\",\"      \",amount)\n",
    "print(\"-\" * 35)\n",
    "print(\"Closing Budget\",\"      \",budget -amount)\n",
    "print(\"Transaction\",\"         \",  1)\n",
    "print(\"=\" *35)\n",
    "print(\"      see you next time \")\n",
    "print(\"=\" * 35)"
   ]
  },
  {
   "cell_type": "code",
   "execution_count": null,
   "id": "50e79f8b-8f26-4a10-95b2-dfddcab0d164",
   "metadata": {},
   "outputs": [],
   "source": []
  }
 ],
 "metadata": {
  "kernelspec": {
   "display_name": "Python 3 (ipykernel)",
   "language": "python",
   "name": "python3"
  },
  "language_info": {
   "codemirror_mode": {
    "name": "ipython",
    "version": 3
   },
   "file_extension": ".py",
   "mimetype": "text/x-python",
   "name": "python",
   "nbconvert_exporter": "python",
   "pygments_lexer": "ipython3",
   "version": "3.12.11"
  }
 },
 "nbformat": 4,
 "nbformat_minor": 5
}
